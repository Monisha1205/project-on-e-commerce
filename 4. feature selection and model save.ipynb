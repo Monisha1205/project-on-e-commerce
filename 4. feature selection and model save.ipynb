{
 "cells": [
  {
   "cell_type": "code",
   "execution_count": 2,
   "id": "80123754",
   "metadata": {},
   "outputs": [],
   "source": [
    "import pandas as pd\n",
    "from sklearn.model_selection import train_test_split, GridSearchCV\n",
    "from sklearn.preprocessing import StandardScaler\n",
    "from sklearn.feature_selection import SelectKBest, f_regression\n",
    "from sklearn.linear_model import LinearRegression\n",
    "from sklearn.svm import SVR\n",
    "from sklearn.tree import DecisionTreeRegressor\n",
    "from sklearn.ensemble import RandomForestRegressor\n",
    "from sklearn.metrics import r2_score\n",
    "import pickle"
   ]
  },
  {
   "cell_type": "code",
   "execution_count": 3,
   "id": "7d56ee75",
   "metadata": {},
   "outputs": [],
   "source": [
    "def preprocess_data(X_train, X_test):\n",
    "    scaler = StandardScaler()\n",
    "    X_train_scaled = scaler.fit_transform(X_train)\n",
    "    X_test_scaled = scaler.transform(X_test)\n",
    "    return X_train_scaled, X_test_scaled\n"
   ]
  },
  {
   "cell_type": "code",
   "execution_count": 4,
   "id": "9d19bc24",
   "metadata": {},
   "outputs": [],
   "source": [
    "def split_data(X, y, test_size=0.2, random_state=42):\n",
    "    X_train, X_test, y_train, y_test = train_test_split(X, y, test_size=test_size, random_state=random_state)\n",
    "    return X_train, X_test, y_train, y_test"
   ]
  },
  {
   "cell_type": "code",
   "execution_count": 5,
   "id": "507a5f6f",
   "metadata": {},
   "outputs": [],
   "source": [
    "def select_k_best(X_train, X_test, y_train, k=5):\n",
    "    selector = SelectKBest(f_regression, k=k)\n",
    "    X_train_selected = selector.fit_transform(X_train, y_train)\n",
    "    X_test_selected = selector.transform(X_test)\n",
    "    return X_train_selected, X_test_selected"
   ]
  },
  {
   "cell_type": "code",
   "execution_count": 6,
   "id": "dc3ddcd7",
   "metadata": {},
   "outputs": [],
   "source": [
    "def train_models(X_train, y_train):\n",
    "    models = {\n",
    "        'Linear Regression': LinearRegression(),\n",
    "        'SVR': SVR(),\n",
    "        'Decision Tree': DecisionTreeRegressor(),\n",
    "        'Random Forest': RandomForestRegressor()\n",
    "    }\n",
    "    \n",
    "    best_models = {}\n",
    "    \n",
    "    for name, model in models.items():\n",
    "        param_grid = {\n",
    "            \"Linear Regression\": {},  \n",
    "            \"SVR\": {'kernel': ['rbf', 'poly', 'sigmoid', 'linear'], 'C': [10, 100], 'gamma': [\"auto\", \"scale\"]},\n",
    "            \"Decision Tree\": {'criterion': ['mse', 'mae', 'friedman_mse'], 'max_features': ['auto', 'sqrt', 'log2'],\n",
    "                              'splitter': [\"best\", \"random\"]},\n",
    "            \"Random Forest\": {'criterion': [\"squared_error\", \"absolute_error\", 'friedman_mse', 'poisson'],\n",
    "                              'max_features': ['auto', 'sqrt', 'log2'], 'n_estimators': [10, 100]}\n",
    "        }\n",
    "        \n",
    "        \n",
    "        if name == \"Linear Regression\":\n",
    "            param_grid[name] = [{}]\n",
    "\n",
    "        grid_search = GridSearchCV(model, param_grid[name], cv=5, scoring='r2')\n",
    "        grid_search.fit(X_train, y_train)\n",
    "        \n",
    "        best_models[name] = grid_search.best_estimator_\n",
    "    \n",
    "    return best_models"
   ]
  },
  {
   "cell_type": "code",
   "execution_count": 7,
   "id": "909e97d4",
   "metadata": {},
   "outputs": [],
   "source": [
    "def evaluate_models(models, X_test, y_test):\n",
    "    results = {'Model': [], 'R2 Score': []}\n",
    "    \n",
    "    for name, model in models.items():\n",
    "        y_pred = model.predict(X_test)\n",
    "        r2 = r2_score(y_test, y_pred)\n",
    "        \n",
    "        results['Model'].append(name)\n",
    "        results['R2 Score'].append(r2)\n",
    "    \n",
    "    results_df = pd.DataFrame(results)\n",
    "    return results_df"
   ]
  },
  {
   "cell_type": "code",
   "execution_count": 8,
   "id": "5fbbcd04",
   "metadata": {},
   "outputs": [],
   "source": [
    "def save_model(model, filename):\n",
    "    with open(filename, 'wb') as file:\n",
    "        pickle.dump(model, file)\n"
   ]
  },
  {
   "cell_type": "code",
   "execution_count": 9,
   "id": "93a1a9c2",
   "metadata": {
    "scrolled": true
   },
   "outputs": [
    {
     "name": "stderr",
     "output_type": "stream",
     "text": [
      "C:\\Users\\Admin\\anaconda3\\envs\\AIcoures\\lib\\site-packages\\sklearn\\tree\\_classes.py:363: FutureWarning: Criterion 'mse' was deprecated in v1.0 and will be removed in version 1.2. Use `criterion='squared_error'` which is equivalent.\n",
      "  FutureWarning,\n",
      "C:\\Users\\Admin\\anaconda3\\envs\\AIcoures\\lib\\site-packages\\sklearn\\tree\\_classes.py:363: FutureWarning: Criterion 'mse' was deprecated in v1.0 and will be removed in version 1.2. Use `criterion='squared_error'` which is equivalent.\n",
      "  FutureWarning,\n",
      "C:\\Users\\Admin\\anaconda3\\envs\\AIcoures\\lib\\site-packages\\sklearn\\tree\\_classes.py:363: FutureWarning: Criterion 'mse' was deprecated in v1.0 and will be removed in version 1.2. Use `criterion='squared_error'` which is equivalent.\n",
      "  FutureWarning,\n",
      "C:\\Users\\Admin\\anaconda3\\envs\\AIcoures\\lib\\site-packages\\sklearn\\tree\\_classes.py:363: FutureWarning: Criterion 'mse' was deprecated in v1.0 and will be removed in version 1.2. Use `criterion='squared_error'` which is equivalent.\n",
      "  FutureWarning,\n",
      "C:\\Users\\Admin\\anaconda3\\envs\\AIcoures\\lib\\site-packages\\sklearn\\tree\\_classes.py:363: FutureWarning: Criterion 'mse' was deprecated in v1.0 and will be removed in version 1.2. Use `criterion='squared_error'` which is equivalent.\n",
      "  FutureWarning,\n",
      "C:\\Users\\Admin\\anaconda3\\envs\\AIcoures\\lib\\site-packages\\sklearn\\tree\\_classes.py:363: FutureWarning: Criterion 'mse' was deprecated in v1.0 and will be removed in version 1.2. Use `criterion='squared_error'` which is equivalent.\n",
      "  FutureWarning,\n",
      "C:\\Users\\Admin\\anaconda3\\envs\\AIcoures\\lib\\site-packages\\sklearn\\tree\\_classes.py:363: FutureWarning: Criterion 'mse' was deprecated in v1.0 and will be removed in version 1.2. Use `criterion='squared_error'` which is equivalent.\n",
      "  FutureWarning,\n",
      "C:\\Users\\Admin\\anaconda3\\envs\\AIcoures\\lib\\site-packages\\sklearn\\tree\\_classes.py:363: FutureWarning: Criterion 'mse' was deprecated in v1.0 and will be removed in version 1.2. Use `criterion='squared_error'` which is equivalent.\n",
      "  FutureWarning,\n",
      "C:\\Users\\Admin\\anaconda3\\envs\\AIcoures\\lib\\site-packages\\sklearn\\tree\\_classes.py:363: FutureWarning: Criterion 'mse' was deprecated in v1.0 and will be removed in version 1.2. Use `criterion='squared_error'` which is equivalent.\n",
      "  FutureWarning,\n",
      "C:\\Users\\Admin\\anaconda3\\envs\\AIcoures\\lib\\site-packages\\sklearn\\tree\\_classes.py:363: FutureWarning: Criterion 'mse' was deprecated in v1.0 and will be removed in version 1.2. Use `criterion='squared_error'` which is equivalent.\n",
      "  FutureWarning,\n",
      "C:\\Users\\Admin\\anaconda3\\envs\\AIcoures\\lib\\site-packages\\sklearn\\tree\\_classes.py:363: FutureWarning: Criterion 'mse' was deprecated in v1.0 and will be removed in version 1.2. Use `criterion='squared_error'` which is equivalent.\n",
      "  FutureWarning,\n",
      "C:\\Users\\Admin\\anaconda3\\envs\\AIcoures\\lib\\site-packages\\sklearn\\tree\\_classes.py:363: FutureWarning: Criterion 'mse' was deprecated in v1.0 and will be removed in version 1.2. Use `criterion='squared_error'` which is equivalent.\n",
      "  FutureWarning,\n",
      "C:\\Users\\Admin\\anaconda3\\envs\\AIcoures\\lib\\site-packages\\sklearn\\tree\\_classes.py:363: FutureWarning: Criterion 'mse' was deprecated in v1.0 and will be removed in version 1.2. Use `criterion='squared_error'` which is equivalent.\n",
      "  FutureWarning,\n",
      "C:\\Users\\Admin\\anaconda3\\envs\\AIcoures\\lib\\site-packages\\sklearn\\tree\\_classes.py:363: FutureWarning: Criterion 'mse' was deprecated in v1.0 and will be removed in version 1.2. Use `criterion='squared_error'` which is equivalent.\n",
      "  FutureWarning,\n",
      "C:\\Users\\Admin\\anaconda3\\envs\\AIcoures\\lib\\site-packages\\sklearn\\tree\\_classes.py:363: FutureWarning: Criterion 'mse' was deprecated in v1.0 and will be removed in version 1.2. Use `criterion='squared_error'` which is equivalent.\n",
      "  FutureWarning,\n",
      "C:\\Users\\Admin\\anaconda3\\envs\\AIcoures\\lib\\site-packages\\sklearn\\tree\\_classes.py:363: FutureWarning: Criterion 'mse' was deprecated in v1.0 and will be removed in version 1.2. Use `criterion='squared_error'` which is equivalent.\n",
      "  FutureWarning,\n",
      "C:\\Users\\Admin\\anaconda3\\envs\\AIcoures\\lib\\site-packages\\sklearn\\tree\\_classes.py:363: FutureWarning: Criterion 'mse' was deprecated in v1.0 and will be removed in version 1.2. Use `criterion='squared_error'` which is equivalent.\n",
      "  FutureWarning,\n",
      "C:\\Users\\Admin\\anaconda3\\envs\\AIcoures\\lib\\site-packages\\sklearn\\tree\\_classes.py:363: FutureWarning: Criterion 'mse' was deprecated in v1.0 and will be removed in version 1.2. Use `criterion='squared_error'` which is equivalent.\n",
      "  FutureWarning,\n",
      "C:\\Users\\Admin\\anaconda3\\envs\\AIcoures\\lib\\site-packages\\sklearn\\tree\\_classes.py:363: FutureWarning: Criterion 'mse' was deprecated in v1.0 and will be removed in version 1.2. Use `criterion='squared_error'` which is equivalent.\n",
      "  FutureWarning,\n",
      "C:\\Users\\Admin\\anaconda3\\envs\\AIcoures\\lib\\site-packages\\sklearn\\tree\\_classes.py:363: FutureWarning: Criterion 'mse' was deprecated in v1.0 and will be removed in version 1.2. Use `criterion='squared_error'` which is equivalent.\n",
      "  FutureWarning,\n",
      "C:\\Users\\Admin\\anaconda3\\envs\\AIcoures\\lib\\site-packages\\sklearn\\tree\\_classes.py:363: FutureWarning: Criterion 'mse' was deprecated in v1.0 and will be removed in version 1.2. Use `criterion='squared_error'` which is equivalent.\n",
      "  FutureWarning,\n",
      "C:\\Users\\Admin\\anaconda3\\envs\\AIcoures\\lib\\site-packages\\sklearn\\tree\\_classes.py:363: FutureWarning: Criterion 'mse' was deprecated in v1.0 and will be removed in version 1.2. Use `criterion='squared_error'` which is equivalent.\n",
      "  FutureWarning,\n",
      "C:\\Users\\Admin\\anaconda3\\envs\\AIcoures\\lib\\site-packages\\sklearn\\tree\\_classes.py:363: FutureWarning: Criterion 'mse' was deprecated in v1.0 and will be removed in version 1.2. Use `criterion='squared_error'` which is equivalent.\n",
      "  FutureWarning,\n",
      "C:\\Users\\Admin\\anaconda3\\envs\\AIcoures\\lib\\site-packages\\sklearn\\tree\\_classes.py:363: FutureWarning: Criterion 'mse' was deprecated in v1.0 and will be removed in version 1.2. Use `criterion='squared_error'` which is equivalent.\n",
      "  FutureWarning,\n",
      "C:\\Users\\Admin\\anaconda3\\envs\\AIcoures\\lib\\site-packages\\sklearn\\tree\\_classes.py:363: FutureWarning: Criterion 'mse' was deprecated in v1.0 and will be removed in version 1.2. Use `criterion='squared_error'` which is equivalent.\n",
      "  FutureWarning,\n",
      "C:\\Users\\Admin\\anaconda3\\envs\\AIcoures\\lib\\site-packages\\sklearn\\tree\\_classes.py:363: FutureWarning: Criterion 'mse' was deprecated in v1.0 and will be removed in version 1.2. Use `criterion='squared_error'` which is equivalent.\n",
      "  FutureWarning,\n",
      "C:\\Users\\Admin\\anaconda3\\envs\\AIcoures\\lib\\site-packages\\sklearn\\tree\\_classes.py:363: FutureWarning: Criterion 'mse' was deprecated in v1.0 and will be removed in version 1.2. Use `criterion='squared_error'` which is equivalent.\n",
      "  FutureWarning,\n",
      "C:\\Users\\Admin\\anaconda3\\envs\\AIcoures\\lib\\site-packages\\sklearn\\tree\\_classes.py:363: FutureWarning: Criterion 'mse' was deprecated in v1.0 and will be removed in version 1.2. Use `criterion='squared_error'` which is equivalent.\n",
      "  FutureWarning,\n",
      "C:\\Users\\Admin\\anaconda3\\envs\\AIcoures\\lib\\site-packages\\sklearn\\tree\\_classes.py:363: FutureWarning: Criterion 'mse' was deprecated in v1.0 and will be removed in version 1.2. Use `criterion='squared_error'` which is equivalent.\n",
      "  FutureWarning,\n",
      "C:\\Users\\Admin\\anaconda3\\envs\\AIcoures\\lib\\site-packages\\sklearn\\tree\\_classes.py:363: FutureWarning: Criterion 'mse' was deprecated in v1.0 and will be removed in version 1.2. Use `criterion='squared_error'` which is equivalent.\n",
      "  FutureWarning,\n",
      "C:\\Users\\Admin\\anaconda3\\envs\\AIcoures\\lib\\site-packages\\sklearn\\tree\\_classes.py:370: FutureWarning: Criterion 'mae' was deprecated in v1.0 and will be removed in version 1.2. Use `criterion='absolute_error'` which is equivalent.\n",
      "  FutureWarning,\n",
      "C:\\Users\\Admin\\anaconda3\\envs\\AIcoures\\lib\\site-packages\\sklearn\\tree\\_classes.py:370: FutureWarning: Criterion 'mae' was deprecated in v1.0 and will be removed in version 1.2. Use `criterion='absolute_error'` which is equivalent.\n",
      "  FutureWarning,\n",
      "C:\\Users\\Admin\\anaconda3\\envs\\AIcoures\\lib\\site-packages\\sklearn\\tree\\_classes.py:370: FutureWarning: Criterion 'mae' was deprecated in v1.0 and will be removed in version 1.2. Use `criterion='absolute_error'` which is equivalent.\n",
      "  FutureWarning,\n",
      "C:\\Users\\Admin\\anaconda3\\envs\\AIcoures\\lib\\site-packages\\sklearn\\tree\\_classes.py:370: FutureWarning: Criterion 'mae' was deprecated in v1.0 and will be removed in version 1.2. Use `criterion='absolute_error'` which is equivalent.\n",
      "  FutureWarning,\n"
     ]
    },
    {
     "name": "stderr",
     "output_type": "stream",
     "text": [
      "C:\\Users\\Admin\\anaconda3\\envs\\AIcoures\\lib\\site-packages\\sklearn\\tree\\_classes.py:370: FutureWarning: Criterion 'mae' was deprecated in v1.0 and will be removed in version 1.2. Use `criterion='absolute_error'` which is equivalent.\n",
      "  FutureWarning,\n",
      "C:\\Users\\Admin\\anaconda3\\envs\\AIcoures\\lib\\site-packages\\sklearn\\tree\\_classes.py:370: FutureWarning: Criterion 'mae' was deprecated in v1.0 and will be removed in version 1.2. Use `criterion='absolute_error'` which is equivalent.\n",
      "  FutureWarning,\n",
      "C:\\Users\\Admin\\anaconda3\\envs\\AIcoures\\lib\\site-packages\\sklearn\\tree\\_classes.py:370: FutureWarning: Criterion 'mae' was deprecated in v1.0 and will be removed in version 1.2. Use `criterion='absolute_error'` which is equivalent.\n",
      "  FutureWarning,\n",
      "C:\\Users\\Admin\\anaconda3\\envs\\AIcoures\\lib\\site-packages\\sklearn\\tree\\_classes.py:370: FutureWarning: Criterion 'mae' was deprecated in v1.0 and will be removed in version 1.2. Use `criterion='absolute_error'` which is equivalent.\n",
      "  FutureWarning,\n",
      "C:\\Users\\Admin\\anaconda3\\envs\\AIcoures\\lib\\site-packages\\sklearn\\tree\\_classes.py:370: FutureWarning: Criterion 'mae' was deprecated in v1.0 and will be removed in version 1.2. Use `criterion='absolute_error'` which is equivalent.\n",
      "  FutureWarning,\n",
      "C:\\Users\\Admin\\anaconda3\\envs\\AIcoures\\lib\\site-packages\\sklearn\\tree\\_classes.py:370: FutureWarning: Criterion 'mae' was deprecated in v1.0 and will be removed in version 1.2. Use `criterion='absolute_error'` which is equivalent.\n",
      "  FutureWarning,\n",
      "C:\\Users\\Admin\\anaconda3\\envs\\AIcoures\\lib\\site-packages\\sklearn\\tree\\_classes.py:370: FutureWarning: Criterion 'mae' was deprecated in v1.0 and will be removed in version 1.2. Use `criterion='absolute_error'` which is equivalent.\n",
      "  FutureWarning,\n",
      "C:\\Users\\Admin\\anaconda3\\envs\\AIcoures\\lib\\site-packages\\sklearn\\tree\\_classes.py:370: FutureWarning: Criterion 'mae' was deprecated in v1.0 and will be removed in version 1.2. Use `criterion='absolute_error'` which is equivalent.\n",
      "  FutureWarning,\n",
      "C:\\Users\\Admin\\anaconda3\\envs\\AIcoures\\lib\\site-packages\\sklearn\\tree\\_classes.py:370: FutureWarning: Criterion 'mae' was deprecated in v1.0 and will be removed in version 1.2. Use `criterion='absolute_error'` which is equivalent.\n",
      "  FutureWarning,\n",
      "C:\\Users\\Admin\\anaconda3\\envs\\AIcoures\\lib\\site-packages\\sklearn\\tree\\_classes.py:370: FutureWarning: Criterion 'mae' was deprecated in v1.0 and will be removed in version 1.2. Use `criterion='absolute_error'` which is equivalent.\n",
      "  FutureWarning,\n",
      "C:\\Users\\Admin\\anaconda3\\envs\\AIcoures\\lib\\site-packages\\sklearn\\tree\\_classes.py:370: FutureWarning: Criterion 'mae' was deprecated in v1.0 and will be removed in version 1.2. Use `criterion='absolute_error'` which is equivalent.\n",
      "  FutureWarning,\n",
      "C:\\Users\\Admin\\anaconda3\\envs\\AIcoures\\lib\\site-packages\\sklearn\\tree\\_classes.py:370: FutureWarning: Criterion 'mae' was deprecated in v1.0 and will be removed in version 1.2. Use `criterion='absolute_error'` which is equivalent.\n",
      "  FutureWarning,\n",
      "C:\\Users\\Admin\\anaconda3\\envs\\AIcoures\\lib\\site-packages\\sklearn\\tree\\_classes.py:370: FutureWarning: Criterion 'mae' was deprecated in v1.0 and will be removed in version 1.2. Use `criterion='absolute_error'` which is equivalent.\n",
      "  FutureWarning,\n",
      "C:\\Users\\Admin\\anaconda3\\envs\\AIcoures\\lib\\site-packages\\sklearn\\tree\\_classes.py:370: FutureWarning: Criterion 'mae' was deprecated in v1.0 and will be removed in version 1.2. Use `criterion='absolute_error'` which is equivalent.\n",
      "  FutureWarning,\n",
      "C:\\Users\\Admin\\anaconda3\\envs\\AIcoures\\lib\\site-packages\\sklearn\\tree\\_classes.py:370: FutureWarning: Criterion 'mae' was deprecated in v1.0 and will be removed in version 1.2. Use `criterion='absolute_error'` which is equivalent.\n",
      "  FutureWarning,\n",
      "C:\\Users\\Admin\\anaconda3\\envs\\AIcoures\\lib\\site-packages\\sklearn\\tree\\_classes.py:370: FutureWarning: Criterion 'mae' was deprecated in v1.0 and will be removed in version 1.2. Use `criterion='absolute_error'` which is equivalent.\n",
      "  FutureWarning,\n",
      "C:\\Users\\Admin\\anaconda3\\envs\\AIcoures\\lib\\site-packages\\sklearn\\tree\\_classes.py:370: FutureWarning: Criterion 'mae' was deprecated in v1.0 and will be removed in version 1.2. Use `criterion='absolute_error'` which is equivalent.\n",
      "  FutureWarning,\n",
      "C:\\Users\\Admin\\anaconda3\\envs\\AIcoures\\lib\\site-packages\\sklearn\\tree\\_classes.py:370: FutureWarning: Criterion 'mae' was deprecated in v1.0 and will be removed in version 1.2. Use `criterion='absolute_error'` which is equivalent.\n",
      "  FutureWarning,\n",
      "C:\\Users\\Admin\\anaconda3\\envs\\AIcoures\\lib\\site-packages\\sklearn\\tree\\_classes.py:370: FutureWarning: Criterion 'mae' was deprecated in v1.0 and will be removed in version 1.2. Use `criterion='absolute_error'` which is equivalent.\n",
      "  FutureWarning,\n",
      "C:\\Users\\Admin\\anaconda3\\envs\\AIcoures\\lib\\site-packages\\sklearn\\tree\\_classes.py:370: FutureWarning: Criterion 'mae' was deprecated in v1.0 and will be removed in version 1.2. Use `criterion='absolute_error'` which is equivalent.\n",
      "  FutureWarning,\n",
      "C:\\Users\\Admin\\anaconda3\\envs\\AIcoures\\lib\\site-packages\\sklearn\\tree\\_classes.py:370: FutureWarning: Criterion 'mae' was deprecated in v1.0 and will be removed in version 1.2. Use `criterion='absolute_error'` which is equivalent.\n",
      "  FutureWarning,\n",
      "C:\\Users\\Admin\\anaconda3\\envs\\AIcoures\\lib\\site-packages\\sklearn\\tree\\_classes.py:370: FutureWarning: Criterion 'mae' was deprecated in v1.0 and will be removed in version 1.2. Use `criterion='absolute_error'` which is equivalent.\n",
      "  FutureWarning,\n",
      "C:\\Users\\Admin\\anaconda3\\envs\\AIcoures\\lib\\site-packages\\sklearn\\tree\\_classes.py:370: FutureWarning: Criterion 'mae' was deprecated in v1.0 and will be removed in version 1.2. Use `criterion='absolute_error'` which is equivalent.\n",
      "  FutureWarning,\n",
      "C:\\Users\\Admin\\anaconda3\\envs\\AIcoures\\lib\\site-packages\\sklearn\\tree\\_classes.py:370: FutureWarning: Criterion 'mae' was deprecated in v1.0 and will be removed in version 1.2. Use `criterion='absolute_error'` which is equivalent.\n",
      "  FutureWarning,\n",
      "C:\\Users\\Admin\\anaconda3\\envs\\AIcoures\\lib\\site-packages\\sklearn\\tree\\_classes.py:370: FutureWarning: Criterion 'mae' was deprecated in v1.0 and will be removed in version 1.2. Use `criterion='absolute_error'` which is equivalent.\n",
      "  FutureWarning,\n",
      "C:\\Users\\Admin\\anaconda3\\envs\\AIcoures\\lib\\site-packages\\sklearn\\tree\\_classes.py:370: FutureWarning: Criterion 'mae' was deprecated in v1.0 and will be removed in version 1.2. Use `criterion='absolute_error'` which is equivalent.\n",
      "  FutureWarning,\n"
     ]
    },
    {
     "name": "stdout",
     "output_type": "stream",
     "text": [
      "               Model  R2 Score\n",
      "0  Linear Regression  0.198120\n",
      "1                SVR  0.262687\n",
      "2      Decision Tree  0.619645\n",
      "3      Random Forest  0.598817\n"
     ]
    }
   ],
   "source": [
    "data = pd.read_csv(\"pre-E_comm.csv\",index_col=None)\n",
    "df2=data\n",
    "\n",
    "df2 = pd.get_dummies(df2, drop_first=True)\n",
    "\n",
    "X=df2.drop('Churn', 1)\n",
    "y=df2['Churn']\n",
    "\n",
    "X_train, X_test, y_train, y_test = split_data(X, y)\n",
    "\n",
    "X_train_scaled, X_test_scaled = preprocess_data(X_train, X_test)\n",
    "\n",
    "X_train_selected, X_test_selected = select_k_best(X_train_scaled, X_test_scaled, y_train, k=5)\n",
    "\n",
    "best_models = train_models(X_train_selected, y_train)\n",
    "\n",
    "results_df = evaluate_models(best_models, X_test_selected, y_test)\n",
    "print(results_df)\n"
   ]
  },
  {
   "cell_type": "code",
   "execution_count": 10,
   "id": "5fe24e44",
   "metadata": {},
   "outputs": [
    {
     "data": {
      "text/plain": [
       "RandomForestRegressor(max_depth=20)"
      ]
     },
     "execution_count": 10,
     "metadata": {},
     "output_type": "execute_result"
    }
   ],
   "source": [
    "best_model = RandomForestRegressor(n_estimators=100, max_depth=20)  \n",
    "best_model.fit(X_train, y_train)"
   ]
  },
  {
   "cell_type": "code",
   "execution_count": 11,
   "id": "57a24374",
   "metadata": {},
   "outputs": [],
   "source": [
    "save_model(best_model, 'regression_model.pkl')"
   ]
  },
  {
   "cell_type": "code",
   "execution_count": 13,
   "id": "70ca530b",
   "metadata": {},
   "outputs": [
    {
     "data": {
      "text/plain": [
       "array([0.94, 0.99, 0.97, ..., 0.11, 0.07, 0.03])"
      ]
     },
     "execution_count": 13,
     "metadata": {},
     "output_type": "execute_result"
    }
   ],
   "source": [
    "best_model.predict(X)"
   ]
  },
  {
   "cell_type": "code",
   "execution_count": null,
   "id": "edb1145b",
   "metadata": {},
   "outputs": [],
   "source": []
  }
 ],
 "metadata": {
  "kernelspec": {
   "display_name": "Python 3 (ipykernel)",
   "language": "python",
   "name": "python3"
  },
  "language_info": {
   "codemirror_mode": {
    "name": "ipython",
    "version": 3
   },
   "file_extension": ".py",
   "mimetype": "text/x-python",
   "name": "python",
   "nbconvert_exporter": "python",
   "pygments_lexer": "ipython3",
   "version": "3.7.6"
  }
 },
 "nbformat": 4,
 "nbformat_minor": 5
}
