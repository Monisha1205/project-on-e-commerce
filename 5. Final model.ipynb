{
 "cells": [
  {
   "cell_type": "code",
   "execution_count": 1,
   "id": "85487349",
   "metadata": {},
   "outputs": [],
   "source": [
    "import pickle"
   ]
  },
  {
   "cell_type": "code",
   "execution_count": 2,
   "id": "61a2e94a",
   "metadata": {},
   "outputs": [],
   "source": [
    "def load_model(filename):\n",
    "    with open(filename, 'rb') as file:\n",
    "        model = pickle.load(file)\n",
    "    return model"
   ]
  },
  {
   "cell_type": "code",
   "execution_count": 3,
   "id": "2c043e42",
   "metadata": {},
   "outputs": [],
   "source": [
    "model_filename = 'regression_model.pkl'"
   ]
  },
  {
   "cell_type": "code",
   "execution_count": 4,
   "id": "2cff5854",
   "metadata": {},
   "outputs": [],
   "source": [
    "deployed_model = load_model(model_filename)"
   ]
  },
  {
   "cell_type": "code",
   "execution_count": 12,
   "id": "d327ac06",
   "metadata": {},
   "outputs": [
    {
     "name": "stdout",
     "output_type": "stream",
     "text": [
      "[0.94 0.99 0.97 ... 0.11 0.07 0.03]\n"
     ]
    }
   ],
   "source": [
    "new_data = pd.read_csv(\"pre-E_comm.csv\", index_col=None)  \n",
    "new_data = pd.get_dummies(new_data, drop_first=True)\n",
    "\n",
    "\n",
    "if 'Churn' in new_data.columns:\n",
    "    X_new = new_data.drop('Churn', axis=1)\n",
    "else:\n",
    "    X_new = new_data  \n",
    "\n",
    "predictions = deployed_model.predict(X_new)\n",
    "\n",
    "\n",
    "print(predictions)"
   ]
  },
  {
   "cell_type": "code",
   "execution_count": null,
   "id": "40a93ffa",
   "metadata": {},
   "outputs": [],
   "source": []
  }
 ],
 "metadata": {
  "kernelspec": {
   "display_name": "Python 3 (ipykernel)",
   "language": "python",
   "name": "python3"
  },
  "language_info": {
   "codemirror_mode": {
    "name": "ipython",
    "version": 3
   },
   "file_extension": ".py",
   "mimetype": "text/x-python",
   "name": "python",
   "nbconvert_exporter": "python",
   "pygments_lexer": "ipython3",
   "version": "3.7.6"
  }
 },
 "nbformat": 4,
 "nbformat_minor": 5
}
